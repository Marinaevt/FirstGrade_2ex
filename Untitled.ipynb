{
 "cells": [
  {
   "cell_type": "code",
   "execution_count": 16,
   "metadata": {
    "collapsed": true
   },
   "outputs": [],
   "source": [
    "import numpy as np\n",
    "import pandas as pd\n",
    "import pylab as plt\n",
    "import math\n",
    "import random"
   ]
  },
  {
   "cell_type": "code",
   "execution_count": 17,
   "metadata": {
    "collapsed": true
   },
   "outputs": [],
   "source": [
    "%matplotlib inline"
   ]
  },
  {
   "cell_type": "raw",
   "metadata": {},
   "source": [
    "# savefig('foo.png', bbox_inches='tight')\n",
    "# y = ( x2y1 - x1y2 - (y1-y2)*x ) / (x2 - x1)"
   ]
  },
  {
   "cell_type": "code",
   "execution_count": null,
   "metadata": {
    "collapsed": true
   },
   "outputs": [],
   "source": [
    "def GenerateSolveFun():\n",
    "    "
   ]
  },
  {
   "cell_type": "code",
   "execution_count": 117,
   "metadata": {
    "collapsed": false
   },
   "outputs": [
    {
     "data": {
      "image/png": "[encoded data removed]",
      "text/plain": [
       "<matplotlib.figure.Figure at 0xb26f6d8>"
      ]
     },
     "metadata": {},
     "output_type": "display_data"
    }
   ],
   "source": [
    "def GenerateLines():\n",
    "    points = []\n",
    "    pointtemp = []\n",
    "    maxY = -10\n",
    "    minY = 10\n",
    "    maxX = -10\n",
    "    minX = 10\n",
    "    for i in range(4):\n",
    "        pointtemp.append(random.randint(-10, 10))\n",
    "        pointtemp.append(random.randint(-10, 10))\n",
    "        if pointtemp[0] > maxX:\n",
    "            maxX = pointtemp[0]\n",
    "        if pointtemp[0] < minX:\n",
    "            minX = pointtemp[0]\n",
    "        if pointtemp[1] > maxY:\n",
    "            maxY = pointtemp[1]\n",
    "        if pointtemp[1] < minY:\n",
    "            minY = pointtemp[1]\n",
    "        points.append(pointtemp)\n",
    "        pointtemp = []\n",
    "    x = np.linspace(-10, 10, 2000)\n",
    "    y = []\n",
    "    A1 = points[0][1]-points[1][1]\n",
    "    A2 = points[1][1]-points[2][1]\n",
    "    B1 = points[1][0]-points[0][0]\n",
    "    B2 = points[2][0]-points[1][0]\n",
    "    C1 = points[1][0]*points[0][1]-points[0][0]*points[1][1]\n",
    "    C2 = points[2][0]*points[1][1]-points[1][0]*points[2][1]\n",
    "    for i in range(2):\n",
    "        while abs(C1 - C2) < 1 | abs(A1 - A2)+abs(B1-B2) < 1:\n",
    "            points[i][0] = random.randint(-10, 10)\n",
    "            points[i][1] = random.randint(-10, 10)\n",
    "            points[i+1][0] = random.randint(-10, 10)\n",
    "            points[i+1][1] = random.randint(-10, 10)\n",
    "            A1 = points[i][1]-points[i+1][1]\n",
    "            A2 = points[i+1][1]-points[i+2][1]\n",
    "            B1 = points[i+1][0]-points[i][0]\n",
    "            B2 = points[i+2][0]-points[i+1][0]\n",
    "            C1 = points[i+1][0]*points[i][1]-points[i][0]*points[i+1][1]\n",
    "            C2 = points[i+2][0]*points[i+1][1]-points[i+1][0]*points[i+2][1]\n",
    "    #y = (points[1][0]*points[0][1]-points[0][0]*points[1][1]-(points[0][1]-points[1][1])*x)/(points[1][0]-points[0][0])\n",
    "    #plt.plot(x, y, lw = 2)\n",
    "    y = []\n",
    "    y1 = (points[1][0]*points[0][1]-points[0][0]*points[1][1]-(points[0][1]-points[1][1])*x)/(points[1][0]-points[0][0])\n",
    "    y2 = (points[2][0]*points[1][1]-points[1][0]*points[2][1]-(points[1][1]-points[2][1])*x)/(points[2][0]-points[1][0])\n",
    "    y3 = (points[3][0]*points[2][1]-points[2][0]*points[3][1]-(points[2][1]-points[3][1])*x)/(points[3][0]-points[2][0])\n",
    "    y4 = (points[0][0]*points[3][1]-points[3][0]*points[0][1]-(points[3][1]-points[0][1])*x)/(points[0][0]-points[3][0])\n",
    "    plt.plot(x, y1)\n",
    "    plt.plot(x, y2)\n",
    "    plt.plot(x, y3)\n",
    "    plt.plot(x, y4)\n",
    "    #plt.fill_between(x, y1, y2, alpha=.05)\n",
    "    #plt.fill_between(x, y2,y4,alpha=.05)\n",
    "    a = []\n",
    "    b = []\n",
    "    for i in range(4):\n",
    "        a.append(points[i][0])\n",
    "        b.append(points[i][1])\n",
    "        \n",
    "    plt.fill(a, b, color = 'k' , alpha = .3)\n",
    "    axes = plt.gca()\n",
    "    axes.set_xlim(minX-1, maxX+1)\n",
    "    axes.set_ylim(minY-1, maxY+1)\n",
    "    axes.xaxis.set_major_locator(plt.MultipleLocator(1.0))\n",
    "    axes.xaxis.set_minor_locator(plt.MultipleLocator(1.0))\n",
    "    axes.yaxis.set_major_locator(plt.MultipleLocator(1.0))\n",
    "    axes.yaxis.set_minor_locator(plt.MultipleLocator(1.0))\n",
    "    axes.grid(which='major', axis='x', linewidth=0.5, linestyle='-', color='0.75')\n",
    "    axes.grid(which='minor', axis='x', linewidth=0.25, linestyle='-', color='0.75')\n",
    "    axes.grid(which='major', axis='y', linewidth=0.5, linestyle='-', color='0.75')\n",
    "    axes.grid(which='minor', axis='y', linewidth=0.25, linestyle='-', color='0.75')\n",
    "    plt.savefig('graph.png', bbox_inches='tight')\n",
    "    #y1 = []\n",
    "    #y2 = []\n",
    "    #update = {'data':[{'fill': 'tozeroy'}]}\n",
    "\n",
    "GenerateLines()\n"
   ]
  },
  {
   "cell_type": "code",
   "execution_count": null,
   "metadata": {
    "collapsed": false
   },
   "outputs": [],
   "source": []
  }
 ],
 "metadata": {
  "kernelspec": {
   "display_name": "Python 2",
   "language": "python",
   "name": "python2"
  },
  "language_info": {
   "codemirror_mode": {
    "name": "ipython",
    "version": 2
   },
   "file_extension": ".py",
   "mimetype": "text/x-python",
   "name": "python",
   "nbconvert_exporter": "python",
   "pygments_lexer": "ipython2",
   "version": "2.7.11"
  }
 },
 "nbformat": 4,
 "nbformat_minor": 0
}
